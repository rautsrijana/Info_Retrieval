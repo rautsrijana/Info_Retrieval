{
  "nbformat": 4,
  "nbformat_minor": 0,
  "metadata": {
    "colab": {
      "provenance": []
    },
    "kernelspec": {
      "name": "python3",
      "display_name": "Python 3"
    },
    "language_info": {
      "name": "python"
    }
  },
  "cells": [
    {
      "cell_type": "code",
      "execution_count": null,
      "metadata": {
        "colab": {
          "base_uri": "https://localhost:8080/"
        },
        "id": "nS4-m2KbVvnj",
        "outputId": "fcdb2326-52b8-4dca-ba26-c47b46a71e67"
      },
      "outputs": [
        {
          "output_type": "stream",
          "name": "stdout",
          "text": [
            "Requirement already satisfied: nltk in /usr/local/lib/python3.10/dist-packages (3.8.1)\n",
            "Requirement already satisfied: click in /usr/local/lib/python3.10/dist-packages (from nltk) (8.1.7)\n",
            "Requirement already satisfied: joblib in /usr/local/lib/python3.10/dist-packages (from nltk) (1.3.2)\n",
            "Requirement already satisfied: regex>=2021.8.3 in /usr/local/lib/python3.10/dist-packages (from nltk) (2023.6.3)\n",
            "Requirement already satisfied: tqdm in /usr/local/lib/python3.10/dist-packages (from nltk) (4.66.1)\n"
          ]
        }
      ],
      "source": [
        "!pip install nltk"
      ]
    },
    {
      "cell_type": "code",
      "source": [
        "import nltk\n",
        "from nltk.corpus import wordnet\n",
        "from nltk.stem import WordNetLemmatizer\n",
        "from nltk.tokenize import word_tokenize, sent_tokenize\n",
        "\n",
        "# Download WordNet data\n",
        "nltk.download('wordnet')\n",
        "nltk.download('punkt')\n",
        "nltk.download('averaged_perceptron_tagger')\n",
        "\n"
      ],
      "metadata": {
        "colab": {
          "base_uri": "https://localhost:8080/"
        },
        "id": "YAux3eUiV6NZ",
        "outputId": "e6b99b2b-974d-4c03-cbb1-9b50476be5a2"
      },
      "execution_count": null,
      "outputs": [
        {
          "output_type": "stream",
          "name": "stderr",
          "text": [
            "[nltk_data] Downloading package wordnet to /root/nltk_data...\n",
            "[nltk_data] Downloading package punkt to /root/nltk_data...\n",
            "[nltk_data]   Unzipping tokenizers/punkt.zip.\n",
            "[nltk_data] Downloading package averaged_perceptron_tagger to\n",
            "[nltk_data]     /root/nltk_data...\n",
            "[nltk_data]   Unzipping taggers/averaged_perceptron_tagger.zip.\n"
          ]
        },
        {
          "output_type": "execute_result",
          "data": {
            "text/plain": [
              "True"
            ]
          },
          "metadata": {},
          "execution_count": 2
        }
      ]
    },
    {
      "cell_type": "code",
      "source": [
        "\n",
        "# Function to perform lemmatization on a given text\n",
        "def lemmatize_text(text):\n",
        "    # Tokenize the text into sentences\n",
        "    sentences = sent_tokenize(text)\n",
        "\n",
        "    # Initialize the WordNet Lemmatizer\n",
        "    lemmatizer = WordNetLemmatizer()\n",
        "\n",
        "    # Lemmatize each word in each sentence\n",
        "    lemmatized_sentences = []\n",
        "    for sentence in sentences:\n",
        "        # Tokenize the sentence into words\n",
        "        words = word_tokenize(sentence)\n",
        "\n",
        "        # Lemmatize each word using the WordNet Lemmatizer\n",
        "        lemmatized_words = [lemmatizer.lemmatize(word, get_wordnet_pos(word)) for word in words]\n",
        "\n",
        "        # Join the lemmatized words back into a sentence\n",
        "        lemmatized_sentence = ' '.join(lemmatized_words)\n",
        "\n",
        "        # Add the lemmatized sentence to the list\n",
        "        lemmatized_sentences.append(lemmatized_sentence)\n",
        "\n",
        "    # Join the lemmatized sentences back into a paragraph\n",
        "    lemmatized_text = ' '.join(lemmatized_sentences)\n",
        "\n",
        "    return lemmatized_text\n"
      ],
      "metadata": {
        "id": "cLZ-tYVsWD0x"
      },
      "execution_count": null,
      "outputs": []
    },
    {
      "cell_type": "code",
      "source": [
        "\n",
        "# Function to get the WordNet POS (Part of Speech) tag for a given word\n",
        "def get_wordnet_pos(word):\n",
        "    tag = nltk.pos_tag([word])[0][1][0].upper()\n",
        "    tag_dict = {\"N\": wordnet.NOUN, \"V\": wordnet.VERB, \"R\": wordnet.ADV, \"J\": wordnet.ADJ}\n",
        "    return tag_dict.get(tag, wordnet.NOUN)\n",
        "\n",
        "# Example usage\n",
        "input_paragraph = \"A healthy relationship is built upon a foundation of mutual respect, trust, and open communication between individuals. In such a relationship, partners support each other's personal growth and well-being, fostering an environment where both feel valued and understood. Effective communication involves active listening, empathy, and an ability to express thoughts and emotions honestly. Trust is essential, allowing partners to rely on each other and feel secure in the relationship. \"\n",
        "\n",
        "lemmatized_result = lemmatize_text(input_paragraph)\n",
        "print(\"Original text:\")\n",
        "print(input_paragraph)\n",
        "print(\"\\nLemmatized text:\")\n",
        "print(lemmatized_result)"
      ],
      "metadata": {
        "colab": {
          "base_uri": "https://localhost:8080/"
        },
        "id": "DH_nMdJ7WQvr",
        "outputId": "eae2ac57-ad3e-47d4-c095-a49117a9af1d"
      },
      "execution_count": null,
      "outputs": [
        {
          "output_type": "stream",
          "name": "stdout",
          "text": [
            "Original text:\n",
            "A healthy relationship is built upon a foundation of mutual respect, trust, and open communication between individuals. In such a relationship, partners support each other's personal growth and  well-being, fostering an environment where both feel valued and understood. Effective communication involves active listening,   empathy, and an ability to express thoughts and emotions honestly. Trust is essential, allowing partners to rely on each other and    feel secure in the relationship.\n",
            "\n",
            "Lemmatized text:\n",
            "A healthy relationship be built upon a foundation of mutual respect , trust , and open communication between individual . In such a relationship , partner support each other 's personal growth and well-being , foster an environment where both feel value and understood . Effective communication involves active listen , empathy , and an ability to express thought and emotion honestly . Trust be essential , allow partner to rely on each other and feel secure in the relationship .\n"
          ]
        }
      ]
    },
    {
      "cell_type": "code",
      "source": [],
      "metadata": {
        "id": "e69DTQzSWUXQ"
      },
      "execution_count": null,
      "outputs": []
    }
  ]
}